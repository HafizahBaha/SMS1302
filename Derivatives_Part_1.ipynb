{
  "nbformat": 4,
  "nbformat_minor": 0,
  "metadata": {
    "colab": {
      "name": "Derivatives Part 1.ipynb",
      "provenance": [],
      "collapsed_sections": [],
      "toc_visible": true,
      "authorship_tag": "ABX9TyNRumtpBhiTv2+lfnVYWCOZ",
      "include_colab_link": true
    },
    "kernelspec": {
      "name": "python3",
      "display_name": "Python 3"
    },
    "language_info": {
      "name": "python"
    }
  },
  "cells": [
    {
      "cell_type": "markdown",
      "metadata": {
        "id": "view-in-github",
        "colab_type": "text"
      },
      "source": [
        "<a href=\"https://colab.research.google.com/github/HafizahBaha/SMS1302/blob/main/Derivatives_Part_1.ipynb\" target=\"_parent\"><img src=\"https://colab.research.google.com/assets/colab-badge.svg\" alt=\"Open In Colab\"/></a>"
      ]
    },
    {
      "cell_type": "markdown",
      "source": [
        "**SMS 1302** \\\n",
        "**CALCULUS 1**\n",
        "\n",
        "\n",
        "\n"
      ],
      "metadata": {
        "id": "1dtiOJ8vipeo"
      }
    },
    {
      "cell_type": "markdown",
      "source": [
        "#**Solving a differential with Sympy diff()**"
      ],
      "metadata": {
        "id": "GSJi_7p2Itb7"
      }
    },
    {
      "cell_type": "markdown",
      "source": [
        "#EXAMPLES"
      ],
      "metadata": {
        "id": "k2u0Qp9isqPV"
      }
    },
    {
      "cell_type": "code",
      "source": [
        "#import sympy\n",
        "import sympy"
      ],
      "metadata": {
        "id": "dP8dgcwADh0f"
      },
      "execution_count": 4,
      "outputs": []
    },
    {
      "cell_type": "markdown",
      "source": [
        "## Example 1"
      ],
      "metadata": {
        "id": "gHfzSMRDJ5Gs"
      }
    },
    {
      "cell_type": "markdown",
      "source": [
        "Differentiate $y=x^2$"
      ],
      "metadata": {
        "id": "buOC66oeKZu4"
      }
    },
    {
      "cell_type": "code",
      "source": [
        "#STEP 1\n",
        "##Importing sympy\n",
        "from sympy import *"
      ],
      "metadata": {
        "id": "f4d-2UTmlRn-"
      },
      "execution_count": 1,
      "outputs": []
    },
    {
      "cell_type": "code",
      "source": [
        "#STEP 2\n",
        "# create a \"symbol\" called x\n",
        "x = Symbol('x')"
      ],
      "metadata": {
        "id": "Z-fYe-vKlb5I"
      },
      "execution_count": null,
      "outputs": []
    },
    {
      "cell_type": "code",
      "source": [
        "#STEP 3\n",
        "#Define function\n",
        "f = x**2"
      ],
      "metadata": {
        "id": "ltBI-8mhlhES"
      },
      "execution_count": null,
      "outputs": []
    },
    {
      "cell_type": "code",
      "source": [
        "#STEP 4\n",
        "#Calculating Derivative\n",
        "derivative_f = f.diff(x)\n",
        "derivative_f"
      ],
      "metadata": {
        "colab": {
          "base_uri": "https://localhost:8080/",
          "height": 39
        },
        "id": "-GlJFMoblmAr",
        "outputId": "21bcfffa-2f99-4c84-9d63-841994e302f2"
      },
      "execution_count": null,
      "outputs": [
        {
          "output_type": "execute_result",
          "data": {
            "text/plain": [
              "2*x"
            ],
            "text/latex": "$\\displaystyle 2 x$"
          },
          "metadata": {},
          "execution_count": 18
        }
      ]
    },
    {
      "cell_type": "markdown",
      "source": [
        "You can write all the code in one tab as follows:"
      ],
      "metadata": {
        "id": "se3-Zbh5lxCa"
      }
    },
    {
      "cell_type": "code",
      "source": [
        "#Importing sympy\n",
        " \n",
        "from sympy import *\n",
        " \n",
        "# create a \"symbol\" called x\n",
        "x = Symbol('x')\n",
        " \n",
        "#Define function\n",
        "f = x**2\n",
        " \n",
        "#Calculating Derivative\n",
        "derivative_f = f.diff(x)\n",
        " \n",
        "derivative_f"
      ],
      "metadata": {
        "colab": {
          "base_uri": "https://localhost:8080/",
          "height": 39
        },
        "id": "IcHigKKoJ7Kq",
        "outputId": "b2ba1b98-85e5-4082-d85d-92faa0cab9a7"
      },
      "execution_count": null,
      "outputs": [
        {
          "output_type": "execute_result",
          "data": {
            "text/plain": [
              "2*x"
            ],
            "text/latex": "$\\displaystyle 2 x$"
          },
          "metadata": {},
          "execution_count": 19
        }
      ]
    },
    {
      "cell_type": "markdown",
      "source": [
        "##Example 2"
      ],
      "metadata": {
        "id": "3Y2PrRsemfj7"
      }
    },
    {
      "cell_type": "markdown",
      "source": [
        "Find the derivative of $y=(x+1)^2$"
      ],
      "metadata": {
        "id": "fYydW3funKDO"
      }
    },
    {
      "cell_type": "code",
      "source": [
        "#Importing sympy\n",
        " \n",
        "from sympy import *\n",
        " \n",
        "# create a \"symbol\" called x\n",
        "x = Symbol('x')\n",
        " \n",
        "#Define function\n",
        "f = (x+1)**2\n",
        " \n",
        "#Calculating Derivative\n",
        "derivative_f = f.diff(x)\n",
        " \n",
        "derivative_f"
      ],
      "metadata": {
        "colab": {
          "base_uri": "https://localhost:8080/",
          "height": 39
        },
        "id": "IHWvbYgSk8Qy",
        "outputId": "9780413c-bff8-4d88-c8cc-08fe95d75d99"
      },
      "execution_count": null,
      "outputs": [
        {
          "output_type": "execute_result",
          "data": {
            "text/plain": [
              "2*x + 2"
            ],
            "text/latex": "$\\displaystyle 2 x + 2$"
          },
          "metadata": {},
          "execution_count": 20
        }
      ]
    },
    {
      "cell_type": "markdown",
      "source": [
        "## Example 3"
      ],
      "metadata": {
        "id": "PbMDxwvfniMM"
      }
    },
    {
      "cell_type": "markdown",
      "source": [
        "Find the derivative of $y=2sin(9x^3+3x^2+1)$"
      ],
      "metadata": {
        "id": "6SeZak4Kn4xK"
      }
    },
    {
      "cell_type": "code",
      "source": [
        "#Importing sympy\n",
        "from sympy import *\n",
        "\n",
        " \n",
        "# create a \"symbol\" called x\n",
        "x = Symbol('x')\n",
        " \n",
        "#Define function\n",
        "f = 2*sympy.sin(9 * x**3+3*x**2+1)\n",
        " \n",
        "#Calculating Derivative\n",
        "derivative_f = f.diff(x)\n",
        " \n",
        "derivative_f"
      ],
      "metadata": {
        "colab": {
          "base_uri": "https://localhost:8080/",
          "height": 39
        },
        "id": "SIXSBK9Mo6df",
        "outputId": "aa7e0c87-eb8c-4ff8-ee45-28cfcb6f309f"
      },
      "execution_count": 5,
      "outputs": [
        {
          "output_type": "execute_result",
          "data": {
            "text/plain": [
              "2*(27*x**2 + 6*x)*cos(9*x**3 + 3*x**2 + 1)"
            ],
            "text/latex": "$\\displaystyle 2 \\left(27 x^{2} + 6 x\\right) \\cos{\\left(9 x^{3} + 3 x^{2} + 1 \\right)}$"
          },
          "metadata": {},
          "execution_count": 5
        }
      ]
    },
    {
      "cell_type": "markdown",
      "source": [
        "##Example 4"
      ],
      "metadata": {
        "id": "eY_v0GscpKV3"
      }
    },
    {
      "cell_type": "markdown",
      "source": [
        "Find the derivative of $y=6e^{7x+22}$"
      ],
      "metadata": {
        "id": "xdnYrTsNpOBk"
      }
    },
    {
      "cell_type": "code",
      "source": [
        "\n",
        "#Importing sympy\n",
        "from sympy import *\n",
        " \n",
        "# create a \"symbol\" called x\n",
        "x = Symbol('x')\n",
        " \n",
        "#Define function\n",
        "f = 6*exp(7*x+22)\n",
        " \n",
        "#Calculating Derivative\n",
        "derivative_f = f.diff(x)\n",
        " \n",
        "derivative_f"
      ],
      "metadata": {
        "colab": {
          "base_uri": "https://localhost:8080/",
          "height": 39
        },
        "id": "UK-lsDCzps8k",
        "outputId": "1fa8cd1f-a363-4da9-bf91-326f02b22104"
      },
      "execution_count": null,
      "outputs": [
        {
          "output_type": "execute_result",
          "data": {
            "text/plain": [
              "42*exp(7*x + 22)"
            ],
            "text/latex": "$\\displaystyle 42 e^{7 x + 22}$"
          },
          "metadata": {},
          "execution_count": 27
        }
      ]
    },
    {
      "cell_type": "markdown",
      "source": [
        "##Example 5"
      ],
      "metadata": {
        "id": "QrrIAHbMqoj3"
      }
    },
    {
      "cell_type": "markdown",
      "source": [
        "Find the derivative of $y=7 ln (3x+26)$"
      ],
      "metadata": {
        "id": "oCF0C7rXqqwN"
      }
    },
    {
      "cell_type": "code",
      "source": [
        "#Importing sympy\n",
        "from sympy import *\n",
        " \n",
        "# create a \"symbol\" called x\n",
        "x = Symbol('x')\n",
        " \n",
        "#Define function\n",
        "f = 7*ln(3*x+26)\n",
        " \n",
        "#Calculating Derivative\n",
        "derivative_f = f.diff(x)\n",
        " \n",
        "derivative_f"
      ],
      "metadata": {
        "colab": {
          "base_uri": "https://localhost:8080/",
          "height": 52
        },
        "id": "jZrKlOAwq6-U",
        "outputId": "ddae4882-6678-46c8-93db-a602076f4222"
      },
      "execution_count": null,
      "outputs": [
        {
          "output_type": "execute_result",
          "data": {
            "text/plain": [
              "21/(3*x + 26)"
            ],
            "text/latex": "$\\displaystyle \\frac{21}{3 x + 26}$"
          },
          "metadata": {},
          "execution_count": 29
        }
      ]
    },
    {
      "cell_type": "markdown",
      "source": [
        "#EXERCISES"
      ],
      "metadata": {
        "id": "D0t-ZTrJsu2O"
      }
    },
    {
      "cell_type": "markdown",
      "source": [
        "## Exercise 1"
      ],
      "metadata": {
        "id": "B6IhnSfjrp2A"
      }
    },
    {
      "cell_type": "markdown",
      "source": [
        "Find the derivative of $y=7x^2$"
      ],
      "metadata": {
        "id": "gXMhZuU9r7uZ"
      }
    },
    {
      "cell_type": "code",
      "source": [
        "#Step 1"
      ],
      "metadata": {
        "id": "Q6CwZAVHsC4Q"
      },
      "execution_count": null,
      "outputs": []
    },
    {
      "cell_type": "code",
      "source": [
        "#Step 2"
      ],
      "metadata": {
        "id": "FJpzIgwusFep"
      },
      "execution_count": null,
      "outputs": []
    },
    {
      "cell_type": "code",
      "source": [
        "#Step 3"
      ],
      "metadata": {
        "id": "ZQJUte1IsHtF"
      },
      "execution_count": null,
      "outputs": []
    },
    {
      "cell_type": "code",
      "source": [
        "#Step 4"
      ],
      "metadata": {
        "id": "zoxxrufvsJE1"
      },
      "execution_count": null,
      "outputs": []
    },
    {
      "cell_type": "markdown",
      "source": [
        "Write the code in one tab\n"
      ],
      "metadata": {
        "id": "vTm4l56JsOBk"
      }
    },
    {
      "cell_type": "code",
      "source": [
        "#Importing sympy\n",
        "from sympy import *\n",
        " \n",
        "# create a \"symbol\" called x\n",
        "x = Symbol('x')\n",
        " \n",
        "#Define function\n",
        "f = \n",
        " \n",
        "#Calculating Derivative\n",
        "derivative_f = f.diff(x)\n",
        " \n",
        "derivative_f"
      ],
      "metadata": {
        "id": "y_L9nh3rsSEX"
      },
      "execution_count": null,
      "outputs": []
    },
    {
      "cell_type": "markdown",
      "source": [
        "##Exercise 2"
      ],
      "metadata": {
        "id": "g1z8i-5uskNx"
      }
    },
    {
      "cell_type": "markdown",
      "source": [
        "Find the derivative of $y=2(4x^2+7x+28)^9$"
      ],
      "metadata": {
        "id": "2FMSe3nntL84"
      }
    },
    {
      "cell_type": "code",
      "source": [
        "#Answer"
      ],
      "metadata": {
        "id": "uBkwb92ytfrb"
      },
      "execution_count": null,
      "outputs": []
    },
    {
      "cell_type": "markdown",
      "source": [
        "##Exercise 3"
      ],
      "metadata": {
        "id": "dHEr5Nt2t74_"
      }
    },
    {
      "cell_type": "markdown",
      "source": [
        "Find the derivative of $y=5cos(9x^5+5x^4+3)$"
      ],
      "metadata": {
        "id": "npHPkGe-uB4d"
      }
    },
    {
      "cell_type": "code",
      "source": [
        "#Answer"
      ],
      "metadata": {
        "id": "KtHFnfTbuU97"
      },
      "execution_count": null,
      "outputs": []
    },
    {
      "cell_type": "markdown",
      "source": [
        "##Exercise 4"
      ],
      "metadata": {
        "id": "lGHxUTZiuxkE"
      }
    },
    {
      "cell_type": "markdown",
      "source": [
        "Find the derivative of $y=6e^{7x^2+3x}$"
      ],
      "metadata": {
        "id": "Rtwz5P8ju0lN"
      }
    },
    {
      "cell_type": "code",
      "source": [
        "#Answer"
      ],
      "metadata": {
        "id": "plyNRkKdvUno"
      },
      "execution_count": null,
      "outputs": []
    },
    {
      "cell_type": "markdown",
      "source": [
        "##Exercise 5"
      ],
      "metadata": {
        "id": "EAwVQAC_vgoT"
      }
    },
    {
      "cell_type": "markdown",
      "source": [
        "Find the derivative of $y=8ln(2x^2+9x+26)$"
      ],
      "metadata": {
        "id": "b1vzlkCnvl64"
      }
    },
    {
      "cell_type": "code",
      "source": [
        "#Answer"
      ],
      "metadata": {
        "id": "_fSjyFPZvsjG"
      },
      "execution_count": null,
      "outputs": []
    }
  ]
}