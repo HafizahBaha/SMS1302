{
  "nbformat": 4,
  "nbformat_minor": 0,
  "metadata": {
    "colab": {
      "name": " Derivatives Part 3.ipynb",
      "provenance": [],
      "collapsed_sections": [],
      "toc_visible": true,
      "authorship_tag": "ABX9TyMdWYOFrbquvem4nqLzo3SN",
      "include_colab_link": true
    },
    "kernelspec": {
      "name": "python3",
      "display_name": "Python 3"
    },
    "language_info": {
      "name": "python"
    }
  },
  "cells": [
    {
      "cell_type": "markdown",
      "metadata": {
        "id": "view-in-github",
        "colab_type": "text"
      },
      "source": [
        "<a href=\"https://colab.research.google.com/github/HafizahBaha/SMS1302/blob/main/Derivatives_Part_3.ipynb\" target=\"_parent\"><img src=\"https://colab.research.google.com/assets/colab-badge.svg\" alt=\"Open In Colab\"/></a>"
      ]
    },
    {
      "cell_type": "markdown",
      "source": [
        "**SMS 1302** \\\n",
        "**CALCULUS 1**\n",
        "\n",
        "\n",
        "\n"
      ],
      "metadata": {
        "id": "1dtiOJ8vipeo"
      }
    },
    {
      "cell_type": "markdown",
      "source": [
        "#**Differentiate and Plot**"
      ],
      "metadata": {
        "id": "GSJi_7p2Itb7"
      }
    },
    {
      "cell_type": "markdown",
      "source": [
        "\n",
        "\n",
        "\n",
        ">  **Matplotlib**: Matplotlib is one of the most popular Python packages used for data visualization. It is a cross-platform library for making 2D plots from data in arrays.\n",
        "\n",
        "\n",
        "\n",
        "> **NumPy**: It is a python library that is used for working with arrays, it also supports large multi-dimensional arrays and matrices, it also has several mathematical functions.\n",
        "\n",
        "\n",
        "> **SciPy**: Python has a library named as SciPy that is used for mathematical, scientific, and engineering calculations. This library depends on NumPy, and provides various numerical operations.\n",
        "\n",
        "\n",
        "> **Approach:** \n",
        "\n",
        "* Import the modules required.\n",
        "* Define methods for function and its derivative\n",
        "* Use NumPy linspace function to make x-axis spacing.\n",
        "* Plot the function and its derivative\n",
        "* Change the limits of axis using gca() function\n",
        "* Plot the text using text() function\n",
        "\n",
        "\n",
        "\n",
        "\n",
        "\n",
        "\n"
      ],
      "metadata": {
        "id": "yqcC_rgb52QH"
      }
    },
    {
      "cell_type": "markdown",
      "source": [
        "#EXAMPLES"
      ],
      "metadata": {
        "id": "k2u0Qp9isqPV"
      }
    },
    {
      "cell_type": "code",
      "source": [
        "\n",
        "import sympy\n",
        "import numpy\n",
        "import scipy\n",
        "import matplotlib"
      ],
      "metadata": {
        "id": "Xg_FpAgrDzQj"
      },
      "execution_count": 27,
      "outputs": []
    },
    {
      "cell_type": "markdown",
      "source": [
        "## Example 1"
      ],
      "metadata": {
        "id": "gHfzSMRDJ5Gs"
      }
    },
    {
      "cell_type": "markdown",
      "source": [
        "Given $y=2x^3+x+3$,\n",
        "1.   Find the derivative of function\n",
        "2.   Plot the function and its derivative\n",
        "\n",
        "\n",
        "\n",
        "\n",
        "\n",
        "\n"
      ],
      "metadata": {
        "id": "buOC66oeKZu4"
      }
    },
    {
      "cell_type": "markdown",
      "source": [
        "### 1. Find the  derivative"
      ],
      "metadata": {
        "id": "eQDO4xQsB7Bo"
      }
    },
    {
      "cell_type": "code",
      "source": [
        "#Importing sympy\n",
        " \n",
        "from sympy import *\n",
        " \n",
        "# create a \"symbol\" called x\n",
        "x = Symbol('x')\n",
        " \n",
        "#Define function\n",
        "f = (2*x**3)+x+3\n",
        "\n",
        " \n",
        "#Calculating Derivative\n",
        "derivative_f = f.diff(x)\n",
        "derivative_f\n",
        "\n"
      ],
      "metadata": {
        "colab": {
          "base_uri": "https://localhost:8080/",
          "height": 39
        },
        "id": "2Czu5ock9RtB",
        "outputId": "67806d13-a6a5-429a-a4d0-8dabde702ebd"
      },
      "execution_count": 18,
      "outputs": [
        {
          "output_type": "execute_result",
          "data": {
            "text/plain": [
              "6*x**2 + 1"
            ],
            "text/latex": "$\\displaystyle 6 x^{2} + 1$"
          },
          "metadata": {},
          "execution_count": 18
        }
      ]
    },
    {
      "cell_type": "markdown",
      "source": [
        "### Plot the graph"
      ],
      "metadata": {
        "id": "6heU16M2CLhF"
      }
    },
    {
      "cell_type": "code",
      "source": [
        "# importing the library\n",
        "import matplotlib.pyplot as plt\n",
        "from scipy.misc import derivative\n",
        "import numpy as np\n",
        "\n",
        "# defining the function\n",
        "def function(x):\n",
        "\treturn (2*x**3)+x+3\n",
        "\n",
        "# calculating its derivative\n",
        "def deriv(x):\n",
        "\treturn derivative(function, x)\n",
        "\n",
        "# defininf x-axis intervals\n",
        "y = np.linspace(-6, 6)\n",
        "\n",
        "# plotting the function\n",
        "plt.plot(y, function(y), color='purple', label='Function')\n",
        "\n",
        "# plotting its derivative\n",
        "plt.plot(y, deriv(y), color='green', label='Derivative')\n",
        "\n",
        "# formatting\n",
        "plt.legend(loc='upper left')\n",
        "plt.grid(True)"
      ],
      "metadata": {
        "colab": {
          "base_uri": "https://localhost:8080/",
          "height": 265
        },
        "id": "Xjr6RR197jFi",
        "outputId": "a1e5ebf3-c4f8-4785-f5f8-0f700de381d3"
      },
      "execution_count": 5,
      "outputs": [
        {
          "output_type": "display_data",
          "data": {
            "text/plain": [
              "<Figure size 432x288 with 1 Axes>"
            ],
            "image/png": "[encoded data removed]"
          },
          "metadata": {
            "needs_background": "light"
          }
        }
      ]
    },
    {
      "cell_type": "markdown",
      "source": [
        "##Example 2"
      ],
      "metadata": {
        "id": "3Y2PrRsemfj7"
      }
    },
    {
      "cell_type": "markdown",
      "source": [
        "Given $y=2(4x^2+4x+21)^9$,\n",
        "1.   Find the derivative of function\n",
        "2.   Plot the function and its derivative"
      ],
      "metadata": {
        "id": "dULvik17CfXc"
      }
    },
    {
      "cell_type": "markdown",
      "source": [
        "### Find the derivative "
      ],
      "metadata": {
        "id": "fYydW3funKDO"
      }
    },
    {
      "cell_type": "code",
      "source": [
        "#Importing sympy\n",
        "from sympy import *\n",
        " \n",
        "# create a \"symbol\" called x\n",
        "x = Symbol('x')\n",
        " \n",
        "#Define function\n",
        "f = 2*(4*x**2+4*x+21)**9\n",
        " \n",
        "#Calculating Derivative\n",
        "derivative_f = f.diff(x)\n",
        " \n",
        "derivative_f"
      ],
      "metadata": {
        "colab": {
          "base_uri": "https://localhost:8080/",
          "height": 41
        },
        "id": "IHWvbYgSk8Qy",
        "outputId": "2218398f-a963-4676-c7e3-6a1e4e47bb2b"
      },
      "execution_count": 37,
      "outputs": [
        {
          "output_type": "execute_result",
          "data": {
            "text/plain": [
              "2*(72*x + 36)*(4*x**2 + 4*x + 21)**8"
            ],
            "text/latex": "$\\displaystyle 2 \\left(72 x + 36\\right) \\left(4 x^{2} + 4 x + 21\\right)^{8}$"
          },
          "metadata": {},
          "execution_count": 37
        }
      ]
    },
    {
      "cell_type": "markdown",
      "source": [
        "### Plot the graph"
      ],
      "metadata": {
        "id": "08_H10DnD6at"
      }
    },
    {
      "cell_type": "code",
      "source": [
        "# importing the library\n",
        "import matplotlib.pyplot as plt\n",
        "from scipy.misc import derivative\n",
        "import numpy as np\n",
        "\n",
        "# defining the function\n",
        "def function(x):\n",
        "\treturn 2*(4*x**2+4*x+21)**9\n",
        "\n",
        "# calculating its derivative\n",
        "def deriv(x):\n",
        "\treturn derivative(function, x)\n",
        "\n",
        "# defininf x-axis intervals\n",
        "y = np.linspace(-6, 6)\n",
        "\n",
        "# plotting the function\n",
        "plt.plot(y, function(y), color='orange', label='Function')\n",
        "\n",
        "# plotting its derivative\n",
        "plt.plot(y, deriv(y), color='blue', label='Derivative')\n",
        "\n",
        "# formatting\n",
        "plt.legend(loc='upper left')\n",
        "plt.grid(True)"
      ],
      "metadata": {
        "colab": {
          "base_uri": "https://localhost:8080/",
          "height": 276
        },
        "outputId": "05b8d166-bbec-4422-9ec3-add5ffd23182",
        "id": "ld2Y3rfNLCuw"
      },
      "execution_count": 42,
      "outputs": [
        {
          "output_type": "display_data",
          "data": {
            "text/plain": [
              "<Figure size 432x288 with 1 Axes>"
            ],
            "image/png": "[encoded data removed]"
          },
          "metadata": {
            "needs_background": "light"
          }
        }
      ]
    },
    {
      "cell_type": "markdown",
      "source": [
        "#EXERCISES"
      ],
      "metadata": {
        "id": "D0t-ZTrJsu2O"
      }
    },
    {
      "cell_type": "markdown",
      "source": [
        "## Exercise 1"
      ],
      "metadata": {
        "id": "B6IhnSfjrp2A"
      }
    },
    {
      "cell_type": "markdown",
      "source": [
        "Given $y=7(2x+24)^8$,\n",
        "1.   Find the derivative of function\n",
        "2.   Plot the function and its derivative"
      ],
      "metadata": {
        "id": "gXMhZuU9r7uZ"
      }
    },
    {
      "cell_type": "markdown",
      "source": [
        "##Exercise 2"
      ],
      "metadata": {
        "id": "g1z8i-5uskNx"
      }
    },
    {
      "cell_type": "markdown",
      "source": [
        "Given $y=6(7x^2+4x+22)^4$,\n",
        "1.   Find the derivative of function\n",
        "2.   Plot the function and its derivative"
      ],
      "metadata": {
        "id": "2FMSe3nntL84"
      }
    }
  ]
}