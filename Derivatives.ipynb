{
  "nbformat": 4,
  "nbformat_minor": 0,
  "metadata": {
    "colab": {
      "name": "Derivatives.ipynb",
      "provenance": []
    },
    "kernelspec": {
      "name": "python3",
      "display_name": "Python 3"
    },
    "language_info": {
      "name": "python"
    }
  },
  "cells": [
    {
      "cell_type": "markdown",
      "source": [
        "Calculate the Derivative using SymPy in Phyton"
      ],
      "metadata": {
        "id": "GSJi_7p2Itb7"
      }
    },
    {
      "cell_type": "markdown",
      "source": [
        "EXAMPLE 1"
      ],
      "metadata": {
        "id": "JuTJu4p-J2-1"
      }
    },
    {
      "cell_type": "code",
      "source": [
        "# Importing Library\n",
        "import sympy"
      ],
      "metadata": {
        "id": "Rc37_oveI4y7"
      },
      "execution_count": null,
      "outputs": []
    },
    {
      "cell_type": "code",
      "source": [
        "# Defining Symbols\n",
        "x = sympy.Symbol(\"x\")\n",
        "y = sympy.Symbol(\"y\")"
      ],
      "metadata": {
        "id": "ljN_uWAfJDDj"
      },
      "execution_count": null,
      "outputs": []
    },
    {
      "cell_type": "code",
      "source": [
        "# Creating Equation\n",
        "f = x * y + x ** 2 + sympy.sin(2 * y)"
      ],
      "metadata": {
        "id": "szEdqTzaJHtN"
      },
      "execution_count": null,
      "outputs": []
    },
    {
      "cell_type": "code",
      "source": [
        "# Differentiate wtr x\n",
        "df_dx = sympy.diff(f, x)\n",
        "print(\"The derivative of f(x,y) wrt x is: \" + str(df_dx))"
      ],
      "metadata": {
        "colab": {
          "base_uri": "https://localhost:8080/"
        },
        "id": "cZcgx3zGJZ2h",
        "outputId": "c794dfab-eeb6-4441-a555-0a7aca92b962"
      },
      "execution_count": null,
      "outputs": [
        {
          "output_type": "stream",
          "name": "stdout",
          "text": [
            "The derivative of f(x,y) wrt x is: 2*x + y\n"
          ]
        }
      ]
    },
    {
      "cell_type": "markdown",
      "source": [
        "EXAMPLE 2"
      ],
      "metadata": {
        "id": "gHfzSMRDJ5Gs"
      }
    },
    {
      "cell_type": "markdown",
      "source": [
        "Solving a differential with Sympy diff()"
      ],
      "metadata": {
        "id": "buOC66oeKZu4"
      }
    },
    {
      "cell_type": "code",
      "source": [
        "#Importing sympy\n",
        " \n",
        "from sympy import *\n",
        " \n",
        "# create a \"symbol\" called x\n",
        "x = Symbol('x')\n",
        " \n",
        "#Define function\n",
        "f = x**2\n",
        " \n",
        "#Calculating Derivative\n",
        "derivative_f = f.diff(x)\n",
        " \n",
        "derivative_f"
      ],
      "metadata": {
        "colab": {
          "base_uri": "https://localhost:8080/",
          "height": 38
        },
        "id": "IcHigKKoJ7Kq",
        "outputId": "1f33fdf8-758f-4dbc-f400-9c05271aed99"
      },
      "execution_count": null,
      "outputs": [
        {
          "output_type": "execute_result",
          "data": {
            "text/plain": [
              "2*x"
            ],
            "text/latex": "$\\displaystyle 2 x$"
          },
          "metadata": {},
          "execution_count": 5
        }
      ]
    },
    {
      "cell_type": "markdown",
      "source": [
        "Solving derivatives in Python"
      ],
      "metadata": {
        "id": "JfNUtkjkKcQY"
      }
    },
    {
      "cell_type": "code",
      "source": [
        "from sympy import *\n",
        " \n",
        "# create a \"symbol\" called x\n",
        "x = Symbol('x')\n",
        " \n",
        "#Define function\n",
        "f = x**2\n",
        "print(f)\n",
        "\n",
        "#Differentiate\n",
        "derivative_f = f.diff(x)\n",
        "print(derivative_f)\n",
        "\n",
        "#Solve it using lambdify\n",
        "f1 = lambdify(x, f)\n",
        "\n",
        "#passing x=2 to the function\n",
        "fnew=f1(2)\n",
        "\n",
        "print(\"The derivative of f(x,y) when x=2 is: \" + str(fnew) )"
      ],
      "metadata": {
        "colab": {
          "base_uri": "https://localhost:8080/"
        },
        "id": "39Gil8QyKQw7",
        "outputId": "130fe75c-1180-4dc9-e63a-8173ac076ac9"
      },
      "execution_count": null,
      "outputs": [
        {
          "output_type": "stream",
          "name": "stdout",
          "text": [
            "x**2\n",
            "2*x\n",
            "The derivative of f(x,y) when x=2 is: 4\n"
          ]
        }
      ]
    },
    {
      "cell_type": "markdown",
      "source": [
        "Differentiate and Plot"
      ],
      "metadata": {
        "id": "RKFccTtvOPwm"
      }
    },
    {
      "cell_type": "markdown",
      "source": [
        "Matplotlib: Matplotlib is one of the most popular Python packages used for data visualization. It is a cross-platform library for making 2D plots from data in arrays.\n",
        "\n",
        "NumPy: It is a python library that is used for working with arrays, it also supports large multi-dimensional arrays and matrices, it also has several mathematical functions.\n",
        "\n",
        "SciPy: Python has a library named as SciPy that is used for mathematical, scientific, and engineering calculations. This library depends on NumPy, and provides various numerical operations."
      ],
      "metadata": {
        "id": "kaFhvO7fO0cU"
      }
    },
    {
      "cell_type": "markdown",
      "source": [
        "Approach:\n",
        "\n",
        "* Import the modules required.\n",
        "* Define methods for function and its derivative\n",
        "* Use NumPy linspace function to make x-axis spacing.\n",
        "* Plot the function and its derivative\n",
        "* Change the limits of axis using gca() function\n",
        "* Plot the text using text() function\n",
        "\n",
        "\n"
      ],
      "metadata": {
        "id": "rGkC8gvAO8_Z"
      }
    },
    {
      "cell_type": "code",
      "source": [
        "# importing the library\n",
        "import matplotlib.pyplot as plt\n",
        "from scipy.misc import derivative\n",
        "import numpy as np\n",
        "\n",
        "# defining the function\n",
        "def function(x):\n",
        "\treturn 2*x*x*x+x+3\n",
        "\n",
        "# calculating its derivative\n",
        "def deriv(x):\n",
        "\treturn derivative(function, x)\n",
        "\n",
        "# defininf x-axis intervals\n",
        "y = np.linspace(-6, 6)\n",
        "\n",
        "# plotting the function\n",
        "plt.plot(y, function(y), color='purple', label='Function')\n",
        "\n",
        "# plotting its derivative\n",
        "plt.plot(y, deriv(y), color='green', label='Derivative')\n",
        "\n",
        "# formatting\n",
        "plt.legend(loc='upper left')\n",
        "plt.grid(True)\n"
      ],
      "metadata": {
        "colab": {
          "base_uri": "https://localhost:8080/",
          "height": 265
        },
        "id": "2T2SNvMLOTeC",
        "outputId": "45d18cd6-f05c-4934-9ea5-ab3e9d12217b"
      },
      "execution_count": null,
      "outputs": [
        {
          "output_type": "display_data",
          "data": {
            "text/plain": [
              "<Figure size 432x288 with 1 Axes>"
            ],
            "image/png": "[encoded data removed]"
          },
          "metadata": {
            "needs_background": "light"
          }
        }
      ]
    },
    {
      "cell_type": "code",
      "source": [
        "# importing the library\n",
        "import matplotlib.pyplot as plt\n",
        "from scipy.misc import derivative\n",
        "import numpy as np\n",
        "\n",
        "# defining the function\n",
        "def function(x):\n",
        "\treturn x*x*x*x+x*x+5\n",
        "\n",
        "# calculating its derivative\n",
        "def deriv(x):\n",
        "\treturn derivative(function, x)\n",
        "\n",
        "\n",
        "# defininf x-axis intervals\n",
        "y = np.linspace(-15, 15)\n",
        "\n",
        "# plotting the function\n",
        "plt.plot(y, function(y), color='red', label='Function')\n",
        "\n",
        "# plotting its derivative\n",
        "plt.plot(y, deriv(y), color='green', label='Derivative')\n",
        "\n",
        "# formatting\n",
        "plt.legend(loc='upper left')\n",
        "plt.grid(True)\n"
      ],
      "metadata": {
        "colab": {
          "base_uri": "https://localhost:8080/",
          "height": 265
        },
        "id": "EpvQQ4A0Pfor",
        "outputId": "093d0337-03ca-483d-e466-f93c2593f06a"
      },
      "execution_count": null,
      "outputs": [
        {
          "output_type": "display_data",
          "data": {
            "text/plain": [
              "<Figure size 432x288 with 1 Axes>"
            ],
            "image/png": "[encoded data removed]"
          },
          "metadata": {
            "needs_background": "light"
          }
        }
      ]
    },
    {
      "cell_type": "code",
      "source": [
        "# importing modules\n",
        "import matplotlib.pyplot as plt\n",
        "from scipy.misc import derivative\n",
        "import numpy as np\n",
        "\n",
        "# method to return function\n",
        "def function(x):\n",
        "\treturn 4*x**2+x+1\n",
        "\n",
        "# method to return its derivative\n",
        "def deriv(x):\n",
        "\treturn derivative(function, x)\n",
        "\n",
        "#range in x-axis\n",
        "y = np.linspace(-6, 6)\n",
        "\n",
        "# plotting function\n",
        "plt.plot(y, function(y), color='brown', label='Function')\n",
        "\n",
        "# plotting its derivative\n",
        "plt.plot(y, deriv(y), color='blue', label='Derivative')\n",
        "\n",
        "# changing limits of y-axis\n",
        "plt.gca().spines['left'].set_position('zero',)\n",
        "\n",
        "# changing limits of x-axis\n",
        "plt.gca().spines['bottom'].set_position('zero',)\n",
        "plt.legend(loc='upper left')\n",
        "\n",
        "# plotting text in the graph\n",
        "plt.text(5.0, 1.0, r\"$f'(x)=8x+1$\", horizontalalignment='center',\n",
        "\t\tfontsize=18, color='blue')\n",
        "\n",
        "plt.text(-4.4, 25.0, r'$f(x)=4x^2+x+1$', horizontalalignment='center',\n",
        "\t\tfontsize=18, color='brown')\n",
        "plt.grid(True)\n"
      ],
      "metadata": {
        "colab": {
          "base_uri": "https://localhost:8080/",
          "height": 248
        },
        "id": "U6Su4VzGPteh",
        "outputId": "a031ac06-1265-4642-81fc-df23c369c270"
      },
      "execution_count": null,
      "outputs": [
        {
          "output_type": "display_data",
          "data": {
            "text/plain": [
              "<Figure size 432x288 with 1 Axes>"
            ],
            "image/png": "[encoded data removed]"
          },
          "metadata": {
            "needs_background": "light"
          }
        }
      ]
    }
  ]
}