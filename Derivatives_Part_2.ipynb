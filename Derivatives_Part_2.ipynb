{
  "nbformat": 4,
  "nbformat_minor": 0,
  "metadata": {
    "colab": {
      "name": "Derivatives Part 2.ipynb",
      "provenance": [],
      "collapsed_sections": [],
      "toc_visible": true,
      "authorship_tag": "ABX9TyM87nYoP/c/VbXUvCX+zQOY",
      "include_colab_link": true
    },
    "kernelspec": {
      "name": "python3",
      "display_name": "Python 3"
    },
    "language_info": {
      "name": "python"
    }
  },
  "cells": [
    {
      "cell_type": "markdown",
      "metadata": {
        "id": "view-in-github",
        "colab_type": "text"
      },
      "source": [
        "<a href=\"https://colab.research.google.com/github/HafizahBaha/SMS1302/blob/main/Derivatives_Part_2.ipynb\" target=\"_parent\"><img src=\"https://colab.research.google.com/assets/colab-badge.svg\" alt=\"Open In Colab\"/></a>"
      ]
    },
    {
      "cell_type": "markdown",
      "source": [
        "**SMS 1302** \\\n",
        "**CALCULUS 1**\n",
        "\n",
        "\n",
        "\n"
      ],
      "metadata": {
        "id": "1dtiOJ8vipeo"
      }
    },
    {
      "cell_type": "markdown",
      "source": [
        "#**Solving derivatives in Python**"
      ],
      "metadata": {
        "id": "GSJi_7p2Itb7"
      }
    },
    {
      "cell_type": "markdown",
      "source": [
        "#EXAMPLES"
      ],
      "metadata": {
        "id": "k2u0Qp9isqPV"
      }
    },
    {
      "cell_type": "code",
      "source": [
        "import sympy"
      ],
      "metadata": {
        "id": "_n7AkgJUNZ0v"
      },
      "execution_count": null,
      "outputs": []
    },
    {
      "cell_type": "markdown",
      "source": [
        "## Example 1"
      ],
      "metadata": {
        "id": "gHfzSMRDJ5Gs"
      }
    },
    {
      "cell_type": "markdown",
      "source": [
        "Find the derivative of $y=x^2$ at $x=2$"
      ],
      "metadata": {
        "id": "buOC66oeKZu4"
      }
    },
    {
      "cell_type": "code",
      "source": [
        "#Importing sympy\n",
        " \n",
        "from sympy import *\n",
        " \n",
        "# create a \"symbol\" called x\n",
        "x = Symbol('x')\n",
        " \n",
        "#Define function\n",
        "f = x**2\n",
        " \n",
        "#Calculating Derivative\n",
        "derivative_f = f.diff(x)\n",
        " \n",
        "derivative_f"
      ],
      "metadata": {
        "colab": {
          "base_uri": "https://localhost:8080/",
          "height": 39
        },
        "id": "IcHigKKoJ7Kq",
        "outputId": "ca1dd946-40fd-468d-cec6-adc9fda53b55"
      },
      "execution_count": null,
      "outputs": [
        {
          "output_type": "execute_result",
          "data": {
            "text/plain": [
              "2*x"
            ],
            "text/latex": "$\\displaystyle 2 x$"
          },
          "metadata": {},
          "execution_count": 9
        }
      ]
    },
    {
      "cell_type": "code",
      "source": [
        "#Solve it using lambdify\n",
        "f1 = lambdify(x, derivative_f)\n",
        "\n",
        "#passing x=2 to the function\n",
        "fnew=f1(2)\n",
        "\n",
        "print(\"The derivative of f(x,y) when x=2 is: \" + str(fnew) )"
      ],
      "metadata": {
        "colab": {
          "base_uri": "https://localhost:8080/"
        },
        "id": "RVvzBujVzQMY",
        "outputId": "2d5bc37a-ec61-4830-d8f3-4ea0a96f6284"
      },
      "execution_count": null,
      "outputs": [
        {
          "output_type": "stream",
          "name": "stdout",
          "text": [
            "The derivative of f(x,y) when x=2 is: 4\n"
          ]
        }
      ]
    },
    {
      "cell_type": "markdown",
      "source": [
        "##Example 2"
      ],
      "metadata": {
        "id": "3Y2PrRsemfj7"
      }
    },
    {
      "cell_type": "markdown",
      "source": [
        "Find the derivative of $y=(x+1)^2$ at $x=6$"
      ],
      "metadata": {
        "id": "fYydW3funKDO"
      }
    },
    {
      "cell_type": "code",
      "source": [
        "#Importing sympy\n",
        " \n",
        "from sympy import *\n",
        " \n",
        "# create a \"symbol\" called x\n",
        "x = Symbol('x')\n",
        " \n",
        "#Define function\n",
        "f = (x+1)**2\n",
        " \n",
        "#Calculating Derivative\n",
        "derivative_f = f.diff(x)\n",
        " \n",
        "derivative_f"
      ],
      "metadata": {
        "colab": {
          "base_uri": "https://localhost:8080/",
          "height": 39
        },
        "id": "IHWvbYgSk8Qy",
        "outputId": "152d17e4-bf02-4d64-8ccf-618f3d2addd9"
      },
      "execution_count": null,
      "outputs": [
        {
          "output_type": "execute_result",
          "data": {
            "text/plain": [
              "2*x + 2"
            ],
            "text/latex": "$\\displaystyle 2 x + 2$"
          },
          "metadata": {},
          "execution_count": 4
        }
      ]
    },
    {
      "cell_type": "code",
      "source": [
        "#Solve it using lambdify\n",
        "f1 = lambdify(x, derivative_f)\n",
        "\n",
        "#passing x=5 to the function\n",
        "fnew=f1(5)\n",
        "\n",
        "print(\"The derivative of f(x,y) when x=5 is: \" + str(fnew) )"
      ],
      "metadata": {
        "colab": {
          "base_uri": "https://localhost:8080/"
        },
        "id": "FS3lzHAhz1UZ",
        "outputId": "bfd63cc2-7a0d-4b6b-f854-79dd38da3a03"
      },
      "execution_count": null,
      "outputs": [
        {
          "output_type": "stream",
          "name": "stdout",
          "text": [
            "The derivative of f(x,y) when x=5 is: 12\n"
          ]
        }
      ]
    },
    {
      "cell_type": "markdown",
      "source": [
        "#EXERCISES"
      ],
      "metadata": {
        "id": "D0t-ZTrJsu2O"
      }
    },
    {
      "cell_type": "markdown",
      "source": [
        "## Exercise 1"
      ],
      "metadata": {
        "id": "B6IhnSfjrp2A"
      }
    },
    {
      "cell_type": "markdown",
      "source": [
        "Find the derivative of $y=7x^2$ at $x=4$"
      ],
      "metadata": {
        "id": "gXMhZuU9r7uZ"
      }
    },
    {
      "cell_type": "markdown",
      "source": [
        "##Exercise 2"
      ],
      "metadata": {
        "id": "g1z8i-5uskNx"
      }
    },
    {
      "cell_type": "markdown",
      "source": [
        "Find the derivative of $y=2(4x^2+7x+28)^9$ at $x=6$"
      ],
      "metadata": {
        "id": "2FMSe3nntL84"
      }
    }
  ]
}